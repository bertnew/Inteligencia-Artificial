{
  "nbformat": 4,
  "nbformat_minor": 0,
  "metadata": {
    "colab": {
      "provenance": [],
      "authorship_tag": "ABX9TyN8wjAyjbUci9OIv+HSTQEO",
      "include_colab_link": true
    },
    "kernelspec": {
      "name": "python3",
      "display_name": "Python 3"
    },
    "language_info": {
      "name": "python"
    }
  },
  "cells": [
    {
      "cell_type": "markdown",
      "metadata": {
        "id": "view-in-github",
        "colab_type": "text"
      },
      "source": [
        "<a href=\"https://colab.research.google.com/github/bertnew/Inteligencia-Artificial/blob/main/Chatbot_binary_transformer.ipynb\" target=\"_parent\"><img src=\"https://colab.research.google.com/assets/colab-badge.svg\" alt=\"Open In Colab\"/></a>"
      ]
    },
    {
      "cell_type": "code",
      "execution_count": null,
      "metadata": {
        "id": "ur0_inbpBHWv"
      },
      "outputs": [],
      "source": [
        "# 1. Install Required Libraries:\n",
        "!pip install transformers\n",
        "!pip install torch"
      ]
    },
    {
      "cell_type": "code",
      "source": [
        "# Import necessary modules:\n",
        "\n",
        "from transformers import GPT2LMHeadModel, GPT2Tokenizer\n",
        "import torch"
      ],
      "metadata": {
        "id": "061pzLaOBOrf"
      },
      "execution_count": null,
      "outputs": []
    },
    {
      "cell_type": "code",
      "source": [
        "# Load the pre-trained GPT-2 model and tokenizer\n",
        "\n",
        "tokenizer = GPT2Tokenizer.from_pretrained(\"gpt2\")\n",
        "model = GPT2LMHeadModel.from_pretrained(\"gpt2\")"
      ],
      "metadata": {
        "id": "9mbLdYd2BWGd"
      },
      "execution_count": null,
      "outputs": []
    },
    {
      "cell_type": "code",
      "source": [
        "# FUNCION 'def'  gererate_response y decode the responses and return the responses\n",
        "\n",
        "\n",
        "def generate_response(prompt, max_length=100, num_responses=1):\n",
        "    inputs = tokenizer.encode(prompt, return_tensors=\"pt\", add_special_tokens=True)\n",
        "\n",
        "    # Generate responses\n",
        "    outputs = model.generate(inputs, max_length=max_length, num_return_sequences=num_responses, no_repeat_ngram_size=2, top_k=50, top_p=0.95, temperature=0.7)\n",
        "\n",
        "    # Decode and return the responses\n",
        "    responses = [tokenizer.decode(output, skip_special_tokens=True) for output in outputs]\n",
        "    return responses\n"
      ],
      "metadata": {
        "id": "tgxkSNJ_BaOG"
      },
      "execution_count": null,
      "outputs": []
    },
    {
      "cell_type": "code",
      "source": [
        "# FUNCION 'def' , binary_response  'yes'=1  'no'=0\n",
        "\n",
        "def binary_response(response):\n",
        "    # Your logic for mapping the response to a binary (yes/no) answer\n",
        "    if 'yes' in response.lower():\n",
        "        return 1\n",
        "    elif 'no' in response.lower():\n",
        "        return 0\n",
        "    else:\n",
        "        return -1  # Indicate that the response is not recognized as yes/no\n"
      ],
      "metadata": {
        "id": "dhmMtzwIBxdu"
      },
      "execution_count": null,
      "outputs": []
    },
    {
      "cell_type": "code",
      "source": [
        "# Bucle 'while'\n",
        "\n",
        "user_input = input(\"You: \")\n",
        "\n",
        "while user_input.lower() != 'exit':\n",
        "    bot_response = generate_response(user_input, max_length=50, num_responses=1)[0]\n",
        "    print(f\"ChatBot: {bot_response}\")\n",
        "\n",
        "    # Get binary response\n",
        "    binary_result = binary_response(bot_response)\n",
        "\n",
        "    if binary_result != -1:\n",
        "        print(f\"Binary Response: {binary_result}\")\n",
        "    else:\n",
        "        print(\"ChatBot: I didn't understand your response.\")\n",
        "\n",
        "    user_input = input(\"You: \")\n",
        "\n",
        "    # In this example, the binary_response function checks if\n",
        "    # the response from the chatbot contains 'yes' or 'no'\n",
        "     # (case-insensitive) and maps it to 1 or 0 accordingly.\n",
        "     # You can adjust this logic based on your specific\n",
        "     # questionnaire and desired behavior. Feel free to\n",
        "     #customize the code further based on your specific needs."
      ],
      "metadata": {
        "id": "r_d3q_pqCGr9"
      },
      "execution_count": null,
      "outputs": []
    }
  ]
}