{
  "nbformat": 4,
  "nbformat_minor": 0,
  "metadata": {
    "colab": {
      "provenance": [],
      "authorship_tag": "ABX9TyOMzgaePYcwZz+hByo0WGXC",
      "include_colab_link": true
    },
    "kernelspec": {
      "name": "python3",
      "display_name": "Python 3"
    },
    "language_info": {
      "name": "python"
    }
  },
  "cells": [
    {
      "cell_type": "markdown",
      "metadata": {
        "id": "view-in-github",
        "colab_type": "text"
      },
      "source": [
        "<a href=\"https://colab.research.google.com/github/bertnew/Inteligencia-Artificial/blob/main/Chatbot_using_Transformers.ipynb\" target=\"_parent\"><img src=\"https://colab.research.google.com/assets/colab-badge.svg\" alt=\"Open In Colab\"/></a>"
      ]
    },
    {
      "cell_type": "code",
      "execution_count": null,
      "metadata": {
        "id": "9Es8wbpXb_7F"
      },
      "outputs": [],
      "source": [
        "# 1. Install the transformers library:\n",
        "\n",
        "!pip install transformers\n"
      ]
    },
    {
      "cell_type": "code",
      "source": [
        "# Import necessary modules:\n",
        "\n",
        "from transformers import GPT2LMHeadModel, GPT2Tokenizer\n",
        "import torch"
      ],
      "metadata": {
        "id": "xpJ6pi-bcRhD"
      },
      "execution_count": null,
      "outputs": []
    },
    {
      "cell_type": "code",
      "source": [
        "# Load the pre-trained GPT-2 model and tokenizer:\n",
        "\n",
        "tokenizer = GPT2Tokenizer.from_pretrained(\"gpt2\")\n",
        "model = GPT2LMHeadModel.from_pretrained(\"gpt2\")\n",
        "\n"
      ],
      "metadata": {
        "id": "Dpdj0wSJcVLT"
      },
      "execution_count": null,
      "outputs": []
    },
    {
      "cell_type": "code",
      "source": [
        "# Create a function to generate responses:\n",
        "\n",
        "def generate_response(prompt, max_length=100, num_responses=1):\n",
        "    inputs = tokenizer.encode(prompt, return_tensors=\"pt\", add_special_tokens=True)\n",
        "\n",
        "    # Generate responses\n",
        "    outputs = model.generate(inputs, max_length=max_length, num_return_sequences=num_responses, no_repeat_ngram_size=2, top_k=50, top_p=0.95, temperature=0.7)\n",
        "\n",
        "    # Decode and return the responses\n",
        "    responses = [tokenizer.decode(output, skip_special_tokens=True) for output in outputs]\n",
        "    return responses\n"
      ],
      "metadata": {
        "id": "cnbIRlpFceHr"
      },
      "execution_count": null,
      "outputs": []
    },
    {
      "cell_type": "code",
      "source": [
        "# Interact with the chatbot:\n",
        "\n",
        "user_input = input(\"You: \")\n",
        "\n",
        "while user_input.lower() != 'exit':\n",
        "    response = generate_response(user_input, max_length=50, num_responses=1)[0]\n",
        "    print(f\"ChatBot: {response}\")\n",
        "    user_input = input(\"You: \")\n",
        "\n",
        "# End the conversation:\n",
        "# Type \"exit\" to end the interaction.\n",
        "\n",
        "# Note: GPT-2 is a powerful language model, but it might generate responses\n",
        "# that are not contextually appropriate. Depending on your use case,\n",
        "# you might need to fine-tune the model or consider other alternatives.\n",
        "\n",
        "# Make sure to adjust parameters and experiment with different\n",
        "# configurations based on your specific requirements."
      ],
      "metadata": {
        "id": "weffinD8cmbc"
      },
      "execution_count": null,
      "outputs": []
    }
  ]
}