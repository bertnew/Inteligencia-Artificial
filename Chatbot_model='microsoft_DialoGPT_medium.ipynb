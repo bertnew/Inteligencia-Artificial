{
  "nbformat": 4,
  "nbformat_minor": 0,
  "metadata": {
    "colab": {
      "provenance": [],
      "authorship_tag": "ABX9TyO0Hdf1y93HAtjZMaVlX9pw",
      "include_colab_link": true
    },
    "kernelspec": {
      "name": "python3",
      "display_name": "Python 3"
    },
    "language_info": {
      "name": "python"
    }
  },
  "cells": [
    {
      "cell_type": "markdown",
      "metadata": {
        "id": "view-in-github",
        "colab_type": "text"
      },
      "source": [
        "<a href=\"https://colab.research.google.com/github/bertnew/Inteligencia-Artificial/blob/main/Chatbot_model%3D'microsoft_DialoGPT_medium.ipynb\" target=\"_parent\"><img src=\"https://colab.research.google.com/assets/colab-badge.svg\" alt=\"Open In Colab\"/></a>"
      ]
    },
    {
      "cell_type": "code",
      "execution_count": null,
      "metadata": {
        "id": "54nDPzaxLHdK"
      },
      "outputs": [],
      "source": [
        "!pip install transformers\n",
        "\n",
        "from transformers import pipeline, Conversation"
      ]
    },
    {
      "cell_type": "code",
      "source": [
        "# Load DialoGPT\n",
        "chatbot = pipeline('conversational', model='microsoft/DialoGPT-medium')\n",
        "\n",
        "# Start a conversation\n",
        "conversation = Conversation(\"Hello, how are you today?\")\n",
        "response = chatbot(conversation)"
      ],
      "metadata": {
        "id": "pgPrs900LPXA"
      },
      "execution_count": null,
      "outputs": []
    },
    {
      "cell_type": "code",
      "source": [
        "# Chat loop\n",
        "while True:\n",
        "    user_input = input(\"You: \")\n",
        "\n",
        "    # Add user input to the conversation\n",
        "    conversation.add_user_input(user_input)\n",
        "\n",
        "    # Get chatbot response\n",
        "    response = chatbot(conversation)\n",
        "\n",
        "    # Display chatbot response\n",
        "    print(f\"ChatBot: {response['generated_responses'][0]['generated_text']}\")\n",
        "\n",
        "    # Add chatbot response to the conversation\n",
        "    conversation.add_system_response(response['generated_responses'][0]['generated_text'])"
      ],
      "metadata": {
        "id": "zloG0_XOL6hq"
      },
      "execution_count": null,
      "outputs": []
    },
    {
      "cell_type": "code",
      "source": [
        "# You: hi\n",
        "# The attention mask and the pad token id were not set. As a consequence, you may observe unexpected behavior. Please pass your input's `attention_mask` to obtain reliable results.\n",
        "# Setting `pad_token_id` to `eos_token_id`:50256 for open-end generation.\n",
        "# A decoder-only architecture is being used, but right-padding was detected! For correct generation results, please set `padding_side='left'` when initializing the tokenizer.\n",
        "# ---------------------------------------------------------------------------\n",
        "# TypeError                                 Traceback (most recent call last)\n",
        "# <ipython-input-4-d0ce9b5c0a01> in <cell line: 2>()\n",
        "#      10\n",
        "#      11     # Display chatbot response\n",
        "# ---> 12     print(f\"ChatBot: {response['generated_responses'][0]['generated_text']}\")\n",
        "#      13\n",
        "#      14     # Add chatbot response to the conversation\n",
        "\n",
        "# /usr/local/lib/python3.10/dist-packages/transformers/pipelines/conversational.py in __getitem__(self, item)\n",
        "#     127\n",
        "#     128     def __getitem__(self, item):\n",
        "# --> 129         return self.messages[item]\n",
        "#     130\n",
        "#     131     def __setitem__(self, key, value):\n",
        "\n",
        "# TypeError: list indices must be integers or slices, not st"
      ],
      "metadata": {
        "id": "K8X8mLmtOktS"
      },
      "execution_count": null,
      "outputs": []
    }
  ]
}