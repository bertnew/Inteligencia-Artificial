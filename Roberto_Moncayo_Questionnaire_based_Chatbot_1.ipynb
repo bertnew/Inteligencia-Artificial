{
  "nbformat": 4,
  "nbformat_minor": 0,
  "metadata": {
    "colab": {
      "provenance": [],
      "authorship_tag": "ABX9TyN/sHKtDVETFP7TKust35XK",
      "include_colab_link": true
    },
    "kernelspec": {
      "name": "python3",
      "display_name": "Python 3"
    },
    "language_info": {
      "name": "python"
    }
  },
  "cells": [
    {
      "cell_type": "markdown",
      "metadata": {
        "id": "view-in-github",
        "colab_type": "text"
      },
      "source": [
        "<a href=\"https://colab.research.google.com/github/bertnew/Inteligencia-Artificial/blob/main/Roberto_Moncayo_Questionnaire_based_Chatbot_1.ipynb\" target=\"_parent\"><img src=\"https://colab.research.google.com/assets/colab-badge.svg\" alt=\"Open In Colab\"/></a>"
      ]
    },
    {
      "cell_type": "markdown",
      "source": [
        " Let's compare two chatbots: one using a pre-trained language model (GPT-2) and the other based on a simple questionnaire. Both will be implemented in Python using TensorFlow and transformers in a Google Colab environment."
      ],
      "metadata": {
        "id": "EwaAfvxRcxsa"
      }
    },
    {
      "cell_type": "code",
      "source": [
        "# 2. Questionnaire-based Chatbot:"
      ],
      "metadata": {
        "id": "xWLgpzkgcyux"
      },
      "execution_count": null,
      "outputs": []
    },
    {
      "cell_type": "code",
      "source": [
        "# Import libraries\n",
        "import tensorflow as tf"
      ],
      "metadata": {
        "id": "59BSntowc4wp"
      },
      "execution_count": 1,
      "outputs": []
    },
    {
      "cell_type": "code",
      "source": [
        "# Function to handle the questionnaire\n",
        "def handle_questionnaire():\n",
        "    print(\"Questionnaire Chatbot: Let's start the mental health questionnaire.\")\n",
        "    questions = [\n",
        "        \"Have you had difficulty sleeping for more than two weeks?\",\n",
        "        # \"Have you lost interest in activities you used to enjoy?\",\n",
        "        # 'Do you feel sad or depressed most of the time?',\n",
        "        # '¿Ha tenido dificultades para dormir durante más de dos semanas?',\n",
        "        # '¿Ha perdido el interés en actividades que solía disfrutar?',\n",
        "        # '¿Se siente triste o deprimido la mayor parte del tiempo?',\n",
        "        # '¿Tiene pensamientos negativos sobre usted mismo o el mundo?',\n",
        "        # '¿Ha tenido problemas para concentrarse o recordar cosas?',\n",
        "        # '¿Siente que se mueve más lento o que sus movimientos son torpes?',\n",
        "        # '¿Ha tenido cambios en su apetito, ya sea perdiendo o ganando peso sin intentarlo?',\n",
        "        # '¿Se siente agitado o ansioso la mayor parte del tiempo?',\n",
        "        # '¿Tiene problemas para conciliar el sueño o despertarse temprano?',\n",
        "        # '¿Se siente irritable o fácilmente molesto?',\n",
        "        # '¿Se siente fatigado o sin energía la mayor parte del tiempo?',\n",
        "        # '¿Ha tenido problemas para controlar su impulso o comportamiento?',\n",
        "        # '¿Se ha sentido inseguro o preocupado por su apariencia física?',\n",
        "        # '¿Ha tenido problemas para relacionarse con los demás?',\n",
        "        # '¿Se ha sentido como si estuviera observando su vida desde afuera?',\n",
        "        # '¿Ha tenido pensamientos de lastimarse a sí mismo o a los demás?',\n",
        "        # '¿Ha tenido un episodio de manía o hipomanía?',\n",
        "        # '¿Ha tenido problemas con el abuso de sustancias o el alcohol?',\n",
        "        # '¿Ha tenido problemas para seguir con sus responsabilidades diarias?',\n",
        "        # '¿Ha tenido problemas en el trabajo, la escuela o en otros aspectos de su vida?',\n",
        "        # '¿Ha pensado en buscar ayuda profesional para su salud mental?',\n",
        "        # '¿Ha recibido tratamiento para su salud mental en el pasado?',\n",
        "        # '¿Tiene antecedentes familiares de trastornos mentales?',\n",
        "        # '¿Tiene otras condiciones médicas que podrían afectar su salud mental?',\n",
        "        # '¿Toma algún medicamento que podría afectar su salud mental?',\n",
        "        # '¿Ha dejado de tomar algún medicamento recetado sin consultar a su médico?',\n",
        "        # '¿Ha tenido experiencias traumáticas en el pasado?',\n",
        "        # '¿Se siente cómodo hablando sobre sus problemas de salud mental con los demás?',\n",
        "        # '¿Tiene un sistema de apoyo social que lo ayude a lidiar con el estrés y los problemas emocionales?',\n",
        "        # '¿Está dispuesto a buscar ayuda profesional si es necesario?',\n",
        "        # \"¿Se ha sentido perfectamente bien de salud y en plena forma?\",\n",
        "        # \"¿Ha tenido la sensación de que necesita un reconstituyente?\",\n",
        "        # \"¿Se ha sentido agotado y sin fuerzas para nada?\",\n",
        "        # \"¿Ha tenido la sensación de que estaba enfermo?\",\n",
        "        # \"¿Ha padecido dolores de cabeza?\",\n",
        "        # \"¿Ha tenido sensación de opresión en la cabeza, o de que la cabeza le va a estallar?\",\n",
        "        # \"¿Ha tenido oleadas de calor o escalofríos?\",\n",
        "        # \"¿Sus preocupaciones le han hecho perder mucho sueño?\",\n",
        "        # \"¿He tenido dificultades para seguir durmiendo de un tirón toda la noche?\",\n",
        "        # \"¿Se ha notado constantemente agobiado y en tensión?\",\n",
        "        # \"¿Se ha sentido con los nervios a flor de piel y malhumorado?\",\n",
        "        # \"¿Se ha asustado o ha tenido pánico sin motivo?\",\n",
        "        # \"¿Ha tenido sensación de que todo se le viene encima?\",\n",
        "        # \"¿Se ha notado nervioso y \\\"a punto de explotar\\\" contantemente?\",\n",
        "        # \"¿Se las ha arreglado para mantenerse ocupado y activo?\",\n",
        "        # \"¿Le cuesta más tiempo hacer las cosas?\",\n",
        "        # \"¿Ha tenido la impresión, en conjunto, de que está haciendo las cosas bien?\",\n",
        "        # \"¿Ha podido concentrarse en lo que estaba haciendo?\",\n",
        "        # \"¿Ha podido tomar decisiones con facilidad?\",\n",
        "        # \"¿Ha podido enfrentarse a sus problemas?\",\n",
        "        # \"¿Ha podido superar las dificultades?\",\n",
        "        # \"¿Ha podido disfrutar de las actividades de su vida diaria?\",\n",
        "        # \"¿Ha podido enfrentarse a las cosas?\",\n",
        "        # \"¿Ha sido capaz de sentirse feliz, cuando las cosas iban bien?\",\n",
        "        # \"¿Ha podido reírse y ver el lado divertido de las cosas?\",\n",
        "        # \"¿Se ha sentido optimista respecto al futuro?\",\n",
        "        # \"¿Se ha sentido útil y necesario?\",\n",
        "        \"¿Se ha sentido razonablemente seguro de sí mismo?\"\n",
        "        # ... add more questions\n",
        "    ]\n",
        "\n",
        "    answers = []\n",
        "    for question in questions:\n",
        "        user_answer = input(question + \" (yes/no): \").lower()\n",
        "        answers.append(user_answer)\n",
        "\n",
        "    # Process the answers, perform screening, diagnosis, and treatment based on the user responses\n",
        "    # Add your logic here based on the collected answers.\n",
        "\n",
        "    print(\"\\nThank you for completing the questionnaire. Your responses have been recorded.\")\n",
        "    print(\"Based on your answers, it is recommended to consult with a mental health professional for further evaluation.\")\n",
        "    print(\"If you are in crisis or need immediate assistance, please contact emergency services.\")\n",
        "\n",
        "# Interact with the questionnaire-based chatbot\n",
        "handle_questionnaire()"
      ],
      "metadata": {
        "id": "_S9asRzIc9q6"
      },
      "execution_count": null,
      "outputs": []
    },
    {
      "cell_type": "code",
      "source": [
        "# 3. Ciclo while:\n",
        "\n",
        "# Function to interact with the questionnaire-based chatbot\n",
        "def interact_with_questionnaire_chatbot():\n",
        "    while True:\n",
        "        handle_questionnaire()\n",
        "        user_input = input(\"Do you want to go through the questionnaire again? (yes/no): \").lower()\n",
        "\n",
        "        if user_input != 'yes':\n",
        "            print(\"Questionnaire Chatbot: Thank you for using the questionnaire. Take care!\")\n",
        "            break\n",
        "\n",
        "# Interact with the questionnaire-based chatbot\n",
        "interact_with_questionnaire_chatbot()"
      ],
      "metadata": {
        "id": "d_lFAj3ZuFnb"
      },
      "execution_count": null,
      "outputs": []
    },
    {
      "cell_type": "code",
      "source": [
        "# 3. Ciclo while:\n",
        "\n",
        "# # Function to interact with the questionnaire-based chatbot\n",
        "# def interact_with_questionnaire_chatbot():\n",
        "#     while True:\n",
        "\n",
        "#         user_input = input(\"Do you want to go through the questionnaire again? (yes/no): \").lower()\n",
        "\n",
        "#         if user_input != 'yes':\n",
        "#             print(\"Questionnaire Chatbot: Thank you for using the questionnaire. Take care!\")\n",
        "#             break\n",
        "#         print(\"Questionnaire Chatbot: Let's start the mental health questionnaire.\")\n",
        "# # Interact with the questionnaire-based chatbot\n",
        "# interact_with_questionnaire_chatbot()"
      ],
      "metadata": {
        "id": "Hk7dPy6AwNyQ"
      },
      "execution_count": null,
      "outputs": []
    },
    {
      "cell_type": "code",
      "source": [],
      "metadata": {
        "id": "Iojl3OQb4rFC"
      },
      "execution_count": null,
      "outputs": []
    }
  ]
}